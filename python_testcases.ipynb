{
 "cells": [
  {
   "cell_type": "code",
   "execution_count": null,
   "id": "3a348753",
   "metadata": {},
   "outputs": [],
   "source": [
    "import matplotlib.pyplot as plt"
   ]
  },
  {
   "cell_type": "code",
   "execution_count": null,
   "id": "dceccac5",
   "metadata": {},
   "outputs": [],
   "source": [
    "x=[1,1.6,2,3]\n",
    "y=[1,1.6,2,3]\n",
    "plt.scatter(x,y)\n",
    "plt.show()\n",
    "plt.pie(x)\n",
    "plt.show()\n",
    "plt.pie(y)\n",
    "plt.show()\n",
    "plt.boxplot(x)\n",
    "plt.show()\n",
    "plt.hist(x)\n",
    "plt.show()"
   ]
  },
  {
   "cell_type": "code",
   "execution_count": null,
   "id": "c70fb340",
   "metadata": {},
   "outputs": [],
   "source": [
    "from mpl_toolkits.mplot3d import Axes3D\n",
    "\n",
    "fig = plt.figure()\n",
    "ax = fig.add_subplot(111, projection='3d')\n",
    "ax.scatter([1,2,3], [4,5,6], [7,8,9])\n",
    "plt.show()\n"
   ]
  },
  {
   "cell_type": "code",
   "execution_count": null,
   "id": "130a1f29",
   "metadata": {},
   "outputs": [],
   "source": [
    "from matplotlib import animation\n",
    "from matplotlib import pyplot as plt\n",
    "\n",
    "fig, ax = plt.subplots()\n",
    "line, = ax.plot([], [], lw=2)\n",
    "\n",
    "def init():\n",
    "    ax.set_xlim(0, 2)\n",
    "    ax.set_ylim(-2, 2)\n",
    "    return line,\n",
    "\n",
    "def update(frame):\n",
    "    x = [0, frame]\n",
    "    y = [0, frame**0.5]\n",
    "    line.set_data(x, y)\n",
    "    return line,\n",
    "\n",
    "ani = animation.FuncAnimation(fig, update, frames=range(1, 10), init_func=init)\n",
    "plt.show()\n"
   ]
  },
  {
   "cell_type": "code",
   "execution_count": null,
   "id": "5e58d69a",
   "metadata": {},
   "outputs": [],
   "source": [
    "def calculate_e(terms=200):\n",
    "    e = 0\n",
    "    factorial = 1\n",
    "    \n",
    "    for n in range(terms):\n",
    "        if n > 0:\n",
    "            factorial *= n  # Compute n!\n",
    "        e += 1 / factorial  # Add 1/n!\n",
    "    \n",
    "    return e\n",
    "\n",
    "# Example: Calculate e using 20 terms\n",
    "approx_e = calculate_e(200)\n",
    "print(f\"Approximated value of e using 20 terms: {approx_e}\")\n"
   ]
  },
  {
   "cell_type": "code",
   "execution_count": null,
   "id": "98b969eb",
   "metadata": {},
   "outputs": [],
   "source": [
    "from decimal import Decimal, getcontext\n",
    "\n",
    "def compute_e(precision):\n",
    "    # Set precision slightly higher to avoid loss during calculations\n",
    "    getcontext().prec = precision + 5\n",
    "\n",
    "    e = Decimal(0)\n",
    "    factorial = Decimal(1)\n",
    "\n",
    "    for i in range(0, precision * 2):  # Use more terms to ensure accuracy\n",
    "        if i > 0:\n",
    "            factorial *= i\n",
    "        e += Decimal(1) / factorial\n",
    "\n",
    "    # Round to the desired number of decimal places\n",
    "    getcontext().prec = precision\n",
    "    return +e  # Unary plus applies the context precision\n",
    "\n",
    "# Example: Compute e to 10,000 digits\n",
    "e_10000 = compute_e(10000)\n",
    "\n",
    "# Optionally, write to a file\n",
    "with open(\"e_10000_digits.txt\", \"w\") as f:\n",
    "    f.write(str(e_10000))\n"
   ]
  },
  {
   "cell_type": "code",
   "execution_count": null,
   "id": "eaa03c84",
   "metadata": {},
   "outputs": [],
   "source": []
  }
 ],
 "metadata": {
  "kernelspec": {
   "display_name": ".venv",
   "language": "python",
   "name": "python3"
  },
  "language_info": {
   "codemirror_mode": {
    "name": "ipython",
    "version": 3
   },
   "file_extension": ".py",
   "mimetype": "text/x-python",
   "name": "python",
   "nbconvert_exporter": "python",
   "pygments_lexer": "ipython3",
   "version": "3.13.3"
  }
 },
 "nbformat": 4,
 "nbformat_minor": 5
}
